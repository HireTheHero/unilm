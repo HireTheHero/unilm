{
 "cells": [
  {
   "attachments": {},
   "cell_type": "markdown",
   "metadata": {},
   "source": [
    "# load data"
   ]
  },
  {
   "cell_type": "code",
   "execution_count": 1,
   "metadata": {},
   "outputs": [],
   "source": [
    "import pandas as pd"
   ]
  },
  {
   "cell_type": "code",
   "execution_count": 115,
   "metadata": {},
   "outputs": [],
   "source": [
    "test_data = \"/home/s2140401/data/coco/arrows/coco_caption_karpathy_test.arrow\""
   ]
  },
  {
   "cell_type": "code",
   "execution_count": 118,
   "metadata": {},
   "outputs": [
    {
     "data": {
      "text/html": [
       "<div>\n",
       "<style scoped>\n",
       "    .dataframe tbody tr th:only-of-type {\n",
       "        vertical-align: middle;\n",
       "    }\n",
       "\n",
       "    .dataframe tbody tr th {\n",
       "        vertical-align: top;\n",
       "    }\n",
       "\n",
       "    .dataframe thead th {\n",
       "        text-align: right;\n",
       "    }\n",
       "</style>\n",
       "<table border=\"1\" class=\"dataframe\">\n",
       "  <thead>\n",
       "    <tr style=\"text-align: right;\">\n",
       "      <th></th>\n",
       "      <th>image</th>\n",
       "      <th>caption</th>\n",
       "      <th>image_id</th>\n",
       "      <th>split</th>\n",
       "    </tr>\n",
       "  </thead>\n",
       "  <tbody>\n",
       "    <tr>\n",
       "      <th>0</th>\n",
       "      <td>b'\\xff\\xd8\\xff\\xe0\\x00\\x10JFIF\\x00\\x01\\x01\\x01...</td>\n",
       "      <td>[Friends playing Frisbee on a dry grass field ...</td>\n",
       "      <td>COCO_val2014_000000379734.jpg</td>\n",
       "      <td>test</td>\n",
       "    </tr>\n",
       "    <tr>\n",
       "      <th>1</th>\n",
       "      <td>b'\\xff\\xd8\\xff\\xe0\\x00\\x10JFIF\\x00\\x01\\x01\\x01...</td>\n",
       "      <td>[A bike is perched on a concrete girder on the...</td>\n",
       "      <td>COCO_val2014_000000224051.jpg</td>\n",
       "      <td>test</td>\n",
       "    </tr>\n",
       "    <tr>\n",
       "      <th>2</th>\n",
       "      <td>b'\\xff\\xd8\\xff\\xe0\\x00\\x10JFIF\\x00\\x01\\x01\\x01...</td>\n",
       "      <td>[A herd of cattle and several men on horses ar...</td>\n",
       "      <td>COCO_val2014_000000472732.jpg</td>\n",
       "      <td>test</td>\n",
       "    </tr>\n",
       "    <tr>\n",
       "      <th>3</th>\n",
       "      <td>b'\\xff\\xd8\\xff\\xe0\\x00\\x10JFIF\\x00\\x01\\x01\\x01...</td>\n",
       "      <td>[a cell phone screwdriver a pair of scissors a...</td>\n",
       "      <td>COCO_val2014_000000562843.jpg</td>\n",
       "      <td>test</td>\n",
       "    </tr>\n",
       "    <tr>\n",
       "      <th>4</th>\n",
       "      <td>b'\\xff\\xd8\\xff\\xe0\\x00\\x10JFIF\\x00\\x01\\x01\\x01...</td>\n",
       "      <td>[A restroom with three mirrors above two sinks...</td>\n",
       "      <td>COCO_val2014_000000545597.jpg</td>\n",
       "      <td>test</td>\n",
       "    </tr>\n",
       "  </tbody>\n",
       "</table>\n",
       "</div>"
      ],
      "text/plain": [
       "                                               image  \\\n",
       "0  b'\\xff\\xd8\\xff\\xe0\\x00\\x10JFIF\\x00\\x01\\x01\\x01...   \n",
       "1  b'\\xff\\xd8\\xff\\xe0\\x00\\x10JFIF\\x00\\x01\\x01\\x01...   \n",
       "2  b'\\xff\\xd8\\xff\\xe0\\x00\\x10JFIF\\x00\\x01\\x01\\x01...   \n",
       "3  b'\\xff\\xd8\\xff\\xe0\\x00\\x10JFIF\\x00\\x01\\x01\\x01...   \n",
       "4  b'\\xff\\xd8\\xff\\xe0\\x00\\x10JFIF\\x00\\x01\\x01\\x01...   \n",
       "\n",
       "                                             caption  \\\n",
       "0  [Friends playing Frisbee on a dry grass field ...   \n",
       "1  [A bike is perched on a concrete girder on the...   \n",
       "2  [A herd of cattle and several men on horses ar...   \n",
       "3  [a cell phone screwdriver a pair of scissors a...   \n",
       "4  [A restroom with three mirrors above two sinks...   \n",
       "\n",
       "                        image_id split  \n",
       "0  COCO_val2014_000000379734.jpg  test  \n",
       "1  COCO_val2014_000000224051.jpg  test  \n",
       "2  COCO_val2014_000000472732.jpg  test  \n",
       "3  COCO_val2014_000000562843.jpg  test  \n",
       "4  COCO_val2014_000000545597.jpg  test  "
      ]
     },
     "execution_count": 118,
     "metadata": {},
     "output_type": "execute_result"
    }
   ],
   "source": [
    "df = pd.read_feather(test_data)\n",
    "df.head()"
   ]
  },
  {
   "attachments": {},
   "cell_type": "markdown",
   "metadata": {},
   "source": [
    "# preprocessing"
   ]
  },
  {
   "cell_type": "code",
   "execution_count": null,
   "metadata": {},
   "outputs": [],
   "source": [
    "'''\n",
    "cd /home/s2140401/script/memes_xai/models/unilm/vlmo\n",
    "python make_arrow.py --root /home/s2140401/data/coco \\\n",
    "    --arrows_root /home/s2140401/data/coco/arrows \\\n",
    "'''"
   ]
  },
  {
   "cell_type": "code",
   "execution_count": 1,
   "metadata": {},
   "outputs": [],
   "source": [
    "import json\n",
    "import os\n",
    "import pandas as pd\n",
    "import pyarrow as pa\n",
    "import random\n",
    "\n",
    "from tqdm import tqdm\n",
    "from glob import glob\n",
    "from collections import defaultdict"
   ]
  },
  {
   "cell_type": "code",
   "execution_count": 32,
   "metadata": {},
   "outputs": [],
   "source": [
    "# root = \"/home/s2140401/data/coco\"\n",
    "root = \"/home/s2140401/data/hateful_memes\""
   ]
  },
  {
   "cell_type": "code",
   "execution_count": 108,
   "metadata": {},
   "outputs": [],
   "source": [
    "# with open(f\"{root}/karpathy/dataset_coco.json\", \"r\") as fp:\n",
    "#     captions = json.load(fp)\n",
    "# with open(f\"{root}/dev.jsonl\", \"r\") as fp:\n",
    "#     captions = [json.loads(l) for l in fp.readlines()]\n",
    "splits = [\"train\", \"dev_seen\", \"dev_unseen\", \"test_seen\", \"test_unseen\"]\n",
    "split_map = {\"train\": \"train\", \"dev_seen\": \"val\", \"dev_unseen\": \"val\", \"test_seen\": \"test\", \"test_unseen\": \"test\"}\n",
    "column_map = {\"img\": \"image\", \"id\": \"image_id\", \"text\": \"caption\"}\n",
    "list_captions = []\n",
    "for split in splits:\n",
    "    jsonlpath = f\"{root}/{split}.jsonl\"\n",
    "    caption = pd.read_json(jsonlpath, lines=True).rename(columns=column_map)\n",
    "    caption[\"split\"] = split_map[split]\n",
    "    list_captions.append(caption)\n",
    "df_captions = pd.concat(list_captions, ignore_index=True).dropna()\n",
    "captions = df_captions.to_dict()\n",
    "captions[\"dataset\"] = \"hm\"\n"
   ]
  },
  {
   "cell_type": "code",
   "execution_count": 109,
   "metadata": {},
   "outputs": [
    {
     "name": "stdout",
     "output_type": "stream",
     "text": [
      "dict_keys(['image_id', 'image', 'label', 'caption', 'split', 'dataset'])\n",
      "img/42953.png\n",
      "its their character not their color that matters\n",
      "train\n",
      "hm\n"
     ]
    }
   ],
   "source": [
    "print(captions.keys())\n",
    "print(captions[\"image\"][0])\n",
    "print(captions[\"caption\"][0])\n",
    "print(captions[\"split\"][0])\n",
    "print(captions[\"dataset\"])"
   ]
  },
  {
   "cell_type": "code",
   "execution_count": 111,
   "metadata": {},
   "outputs": [],
   "source": [
    "iid2captions = defaultdict(list)\n",
    "iid2split = dict()\n",
    "images = list(captions[\"image\"].values())\n",
    "splits = list(captions[\"split\"].values())\n",
    "texts = list(captions[\"caption\"].values())\n",
    "for image, split, text in zip(images, splits, texts):\n",
    "    filename = image.split(\"/\")[-1]\n",
    "    iid2split[filename] = split\n",
    "    iid2captions[filename].append(text)\n"
   ]
  },
  {
   "cell_type": "code",
   "execution_count": 11,
   "metadata": {},
   "outputs": [
    {
     "name": "stdout",
     "output_type": "stream",
     "text": [
      "dict_keys(['images', 'dataset'])\n",
      "dict_keys(['filepath', 'sentids', 'filename', 'imgid', 'split', 'sentences', 'cocoid'])\n",
      "dict_keys(['tokens', 'raw', 'imgid', 'sentid'])\n",
      "coco\n"
     ]
    }
   ],
   "source": [
    "# print(captions.keys())\n",
    "# print(captions[\"images\"][0].keys())\n",
    "# print(captions[\"images\"][0][\"sentences\"][0].keys())\n",
    "# print(captions[\"dataset\"])"
   ]
  },
  {
   "cell_type": "code",
   "execution_count": 12,
   "metadata": {},
   "outputs": [
    {
     "name": "stdout",
     "output_type": "stream",
     "text": [
      "dict_keys(['filepath', 'sentids', 'filename', 'imgid', 'split', 'sentences', 'cocoid'])\n"
     ]
    }
   ],
   "source": [
    "# captions = captions[\"images\"]\n",
    "# print(captions[0].keys())"
   ]
  },
  {
   "cell_type": "code",
   "execution_count": 19,
   "metadata": {},
   "outputs": [
    {
     "name": "stderr",
     "output_type": "stream",
     "text": [
      " 49%|████▉     | 60886/123287 [00:00<00:00, 302975.67it/s]"
     ]
    },
    {
     "name": "stdout",
     "output_type": "stream",
     "text": [
      "COCO_val2014_000000391895.jpg\n",
      "test\n",
      "A man with a red helmet on a small moped on a dirt road. \n"
     ]
    },
    {
     "name": "stderr",
     "output_type": "stream",
     "text": [
      "100%|██████████| 123287/123287 [00:00<00:00, 305754.76it/s]\n"
     ]
    }
   ],
   "source": [
    "# iid2captions = defaultdict(list)\n",
    "# iid2split = dict()\n",
    "# for cap in tqdm(captions):\n",
    "#     filename = cap[\"filename\"]\n",
    "#     iid2split[filename] = cap[\"split\"]\n",
    "#     if cap == captions[0]:\n",
    "#         print(filename)\n",
    "#         print(cap[\"split\"])\n",
    "#     for c in cap[\"sentences\"]:\n",
    "#         iid2captions[filename].append(c[\"raw\"])\n",
    "#         if cap == captions[0] and c == cap[\"sentences\"][0]:\n",
    "#             print(c[\"raw\"])\n"
   ]
  },
  {
   "cell_type": "code",
   "execution_count": 100,
   "metadata": {},
   "outputs": [
    {
     "name": "stdout",
     "output_type": "stream",
     "text": [
      "/home/s2140401/data/hateful_memes/img/71439.png\n"
     ]
    }
   ],
   "source": [
    "paths = list(glob(f\"{root}/img/*.png\"))\n",
    "random.shuffle(paths)\n",
    "print(paths[0])"
   ]
  },
  {
   "cell_type": "code",
   "execution_count": 21,
   "metadata": {},
   "outputs": [
    {
     "name": "stdout",
     "output_type": "stream",
     "text": [
      "/home/s2140401/data/coco/train2014/COCO_train2014_000000445446.jpg\n"
     ]
    }
   ],
   "source": [
    "# paths = list(glob(f\"{root}/train2014/*.jpg\")) + list(glob(f\"{root}/val2014/*.jpg\"))\n",
    "# random.shuffle(paths)\n",
    "# print(paths[0])"
   ]
  },
  {
   "cell_type": "code",
   "execution_count": 113,
   "metadata": {},
   "outputs": [],
   "source": [
    "# caption_paths = [path for path in paths if path.split(\"/\")[-1] in iid2captions]\n",
    "caption_paths = [path for path in paths if path.split(\"/\")[-1] in iid2captions]\n",
    "# caption_paths = []\n",
    "# cnt = 0\n",
    "# for path in paths:\n",
    "#     if path.split(\"/\")[-1] in iid2captions:\n",
    "#         if not cnt:\n",
    "#             print(path)\n",
    "#             print(path.split(\"/\")[-1])\n",
    "#             print(iid2captions[path.split(\"/\")[-1]])\n",
    "#         caption_paths.append(path)\n",
    "#         cnt += 1"
   ]
  },
  {
   "cell_type": "code",
   "execution_count": 26,
   "metadata": {},
   "outputs": [
    {
     "name": "stdout",
     "output_type": "stream",
     "text": [
      "/home/s2140401/data/coco/train2014/COCO_train2014_000000445446.jpg\n",
      "COCO_train2014_000000445446.jpg\n",
      "['A very bright colored fire hydrant by some cones.', 'a yellow and green fire hydration that is by a cone', 'There are some debris next to the fire hydrant.', 'Green and yellow fire hydrant with orange and white barrels next to it.', 'A cone laying next to a yellow and green fire hydrant. ']\n"
     ]
    }
   ],
   "source": [
    "# # caption_paths = [path for path in paths if path.split(\"/\")[-1] in iid2captions]\n",
    "# caption_paths = []\n",
    "# cnt = 0\n",
    "# for path in paths:\n",
    "#     if path.split(\"/\")[-1] in iid2captions:\n",
    "#         if not cnt:\n",
    "#             print(path)\n",
    "#             print(path.split(\"/\")[-1])\n",
    "#             print(iid2captions[path.split(\"/\")[-1]])\n",
    "#         caption_paths.append(path)\n",
    "#         cnt += 1"
   ]
  },
  {
   "cell_type": "code",
   "execution_count": 102,
   "metadata": {},
   "outputs": [
    {
     "name": "stdout",
     "output_type": "stream",
     "text": [
      "all images have caption annotations\n",
      "12140 12140 12140\n"
     ]
    }
   ],
   "source": [
    "if len(paths) == len(caption_paths):\n",
    "    print(\"all images have caption annotations\")\n",
    "else:\n",
    "    print(\"not all images have caption annotations\")\n",
    "print(\n",
    "    len(paths), len(caption_paths), len(iid2captions),\n",
    ")"
   ]
  },
  {
   "cell_type": "code",
   "execution_count": 27,
   "metadata": {},
   "outputs": [
    {
     "name": "stdout",
     "output_type": "stream",
     "text": [
      "all images have caption annotations\n",
      "123287 123287 123287\n"
     ]
    }
   ],
   "source": [
    "# if len(paths) == len(caption_paths):\n",
    "#     print(\"all images have caption annotations\")\n",
    "# else:\n",
    "#     print(\"not all images have caption annotations\")\n",
    "# print(\n",
    "#     len(paths), len(caption_paths), len(iid2captions),\n",
    "# )"
   ]
  },
  {
   "cell_type": "code",
   "execution_count": 104,
   "metadata": {},
   "outputs": [],
   "source": [
    "def path2rest(path, iid2captions, iid2split):\n",
    "    name = path.split(\"/\")[-1]\n",
    "    with open(path, \"rb\") as fp:\n",
    "        binary = fp.read()\n",
    "    captions = iid2captions[name]\n",
    "    split = iid2split[name]\n",
    "    return [binary, captions, name, split]"
   ]
  },
  {
   "cell_type": "code",
   "execution_count": 105,
   "metadata": {},
   "outputs": [
    {
     "name": "stderr",
     "output_type": "stream",
     "text": [
      "100%|██████████| 12140/12140 [00:58<00:00, 208.52it/s]\n"
     ]
    }
   ],
   "source": [
    "bs = []\n",
    "for path in tqdm(caption_paths):\n",
    "    b = path2rest(path, iid2captions, iid2split)\n",
    "    bs.append(b)"
   ]
  },
  {
   "cell_type": "code",
   "execution_count": 114,
   "metadata": {},
   "outputs": [],
   "source": [
    "for split in [\"train\", \"val\", \"restval\", \"test\"]:\n",
    "    batches = [b for b in bs if b[-1] == split]\n",
    "    dataframe = pd.DataFrame(\n",
    "        batches, columns=[\"image\", \"caption\", \"image_id\", \"split\"],\n",
    "    )\n",
    "    table = pa.Table.from_pandas(dataframe)\n",
    "    # os.makedirs(dataset_root, exist_ok=True)\n",
    "    # with pa.OSFile(\n",
    "    #     f\"{dataset_root}/coco_caption_karpathy_{split}.arrow\", \"wb\"\n",
    "    # ) as sink:\n",
    "    #     with pa.RecordBatchFileWriter(sink, table.schema) as writer:\n",
    "    #         writer.write_table(table)"
   ]
  },
  {
   "cell_type": "code",
   "execution_count": 31,
   "metadata": {},
   "outputs": [
    {
     "name": "stderr",
     "output_type": "stream",
     "text": [
      "  0%|          | 589/123287 [00:00<00:39, 3109.93it/s]"
     ]
    },
    {
     "name": "stdout",
     "output_type": "stream",
     "text": [
      "/home/s2140401/data/coco/train2014/COCO_train2014_000000445446.jpg\n",
      "b'\\xff\\xd8\\xff\\xe0\\x00\\x10JFIF'\n",
      "A very bright colored fire hydrant by some cones.\n",
      "COCO_train2014_000000445446.jpg\n",
      "train\n"
     ]
    },
    {
     "name": "stderr",
     "output_type": "stream",
     "text": [
      " 67%|██████▋   | 83199/123287 [04:25<02:08, 313.10it/s] \n"
     ]
    },
    {
     "ename": "KeyboardInterrupt",
     "evalue": "",
     "output_type": "error",
     "traceback": [
      "\u001b[0;31m---------------------------------------------------------------------------\u001b[0m",
      "\u001b[0;31mKeyboardInterrupt\u001b[0m                         Traceback (most recent call last)",
      "Cell \u001b[0;32mIn[31], line 4\u001b[0m\n\u001b[1;32m      2\u001b[0m \u001b[39mfor\u001b[39;00m path \u001b[39min\u001b[39;00m tqdm(caption_paths):\n\u001b[1;32m      3\u001b[0m     name \u001b[39m=\u001b[39m path\u001b[39m.\u001b[39msplit(\u001b[39m\"\u001b[39m\u001b[39m/\u001b[39m\u001b[39m\"\u001b[39m)[\u001b[39m-\u001b[39m\u001b[39m1\u001b[39m]\n\u001b[0;32m----> 4\u001b[0m     \u001b[39mwith\u001b[39;00m \u001b[39mopen\u001b[39;49m(path, \u001b[39m\"\u001b[39;49m\u001b[39mrb\u001b[39;49m\u001b[39m\"\u001b[39;49m) \u001b[39mas\u001b[39;00m fp:\n\u001b[1;32m      5\u001b[0m         binary \u001b[39m=\u001b[39m fp\u001b[39m.\u001b[39mread()\n\u001b[1;32m      6\u001b[0m     captions \u001b[39m=\u001b[39m iid2captions[name]\n",
      "File \u001b[0;32m~/anaconda3/envs/llm/lib/python3.8/site-packages/IPython/core/interactiveshell.py:284\u001b[0m, in \u001b[0;36m_modified_open\u001b[0;34m(file, *args, **kwargs)\u001b[0m\n\u001b[1;32m    277\u001b[0m \u001b[39mif\u001b[39;00m file \u001b[39min\u001b[39;00m {\u001b[39m0\u001b[39m, \u001b[39m1\u001b[39m, \u001b[39m2\u001b[39m}:\n\u001b[1;32m    278\u001b[0m     \u001b[39mraise\u001b[39;00m \u001b[39mValueError\u001b[39;00m(\n\u001b[1;32m    279\u001b[0m         \u001b[39mf\u001b[39m\u001b[39m\"\u001b[39m\u001b[39mIPython won\u001b[39m\u001b[39m'\u001b[39m\u001b[39mt let you open fd=\u001b[39m\u001b[39m{\u001b[39;00mfile\u001b[39m}\u001b[39;00m\u001b[39m by default \u001b[39m\u001b[39m\"\u001b[39m\n\u001b[1;32m    280\u001b[0m         \u001b[39m\"\u001b[39m\u001b[39mas it is likely to crash IPython. If you know what you are doing, \u001b[39m\u001b[39m\"\u001b[39m\n\u001b[1;32m    281\u001b[0m         \u001b[39m\"\u001b[39m\u001b[39myou can use builtins\u001b[39m\u001b[39m'\u001b[39m\u001b[39m open.\u001b[39m\u001b[39m\"\u001b[39m\n\u001b[1;32m    282\u001b[0m     )\n\u001b[0;32m--> 284\u001b[0m \u001b[39mreturn\u001b[39;00m io_open(file, \u001b[39m*\u001b[39;49margs, \u001b[39m*\u001b[39;49m\u001b[39m*\u001b[39;49mkwargs)\n",
      "\u001b[0;31mKeyboardInterrupt\u001b[0m: "
     ]
    }
   ],
   "source": [
    "bs = []\n",
    "for path in tqdm(caption_paths):\n",
    "    name = path.split(\"/\")[-1]\n",
    "    with open(path, \"rb\") as fp:\n",
    "        binary = fp.read()\n",
    "    captions = iid2captions[name]\n",
    "    split = iid2split[name]\n",
    "    b = [binary, captions, name, split]\n",
    "    if path == caption_paths[0]:\n",
    "        print(path)\n",
    "        print(binary[:10])\n",
    "        print(captions[0])\n",
    "        print(name)\n",
    "        print(split)\n",
    "    bs.append(b)"
   ]
  },
  {
   "cell_type": "code",
   "execution_count": null,
   "metadata": {},
   "outputs": [],
   "source": [
    "# for split in [\"train\", \"val\", \"restval\", \"test\"]:\n",
    "#     batches = [b for b in bs if b[-1] == split]\n",
    "#     dataframe = pd.DataFrame(\n",
    "#         batches, columns=[\"image\", \"caption\", \"image_id\", \"split\"],\n",
    "#     )\n",
    "#     table = pa.Table.from_pandas(dataframe)\n",
    "#     os.makedirs(dataset_root, exist_ok=True)\n",
    "#     with pa.OSFile(\n",
    "#         f\"{dataset_root}/coco_caption_karpathy_{split}.arrow\", \"wb\"\n",
    "#     ) as sink:\n",
    "#         with pa.RecordBatchFileWriter(sink, table.schema) as writer:\n",
    "#             writer.write_table(table)"
   ]
  }
 ],
 "metadata": {
  "kernelspec": {
   "display_name": "llm",
   "language": "python",
   "name": "python3"
  },
  "language_info": {
   "codemirror_mode": {
    "name": "ipython",
    "version": 3
   },
   "file_extension": ".py",
   "mimetype": "text/x-python",
   "name": "python",
   "nbconvert_exporter": "python",
   "pygments_lexer": "ipython3",
   "version": "3.8.16 (default, Mar  2 2023, 03:21:46) \n[GCC 11.2.0]"
  },
  "orig_nbformat": 4,
  "vscode": {
   "interpreter": {
    "hash": "6006cab6231ebb02d07c91b189cb0a4e9292a08f7ba14f2fd5bd67f0be3f64f8"
   }
  }
 },
 "nbformat": 4,
 "nbformat_minor": 2
}
